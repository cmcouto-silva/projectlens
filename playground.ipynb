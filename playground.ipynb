{
 "cells": [
  {
   "cell_type": "code",
   "execution_count": null,
   "metadata": {},
   "outputs": [],
   "source": [
    "from projectlens.configs import "
   ]
  },
  {
   "cell_type": "code",
   "execution_count": null,
   "metadata": {},
   "outputs": [],
   "source": []
  },
  {
   "cell_type": "code",
   "execution_count": null,
   "metadata": {},
   "outputs": [],
   "source": []
  },
  {
   "cell_type": "code",
   "execution_count": null,
   "metadata": {},
   "outputs": [],
   "source": []
  },
  {
   "cell_type": "code",
   "execution_count": null,
   "metadata": {},
   "outputs": [],
   "source": []
  },
  {
   "cell_type": "code",
   "execution_count": 8,
   "metadata": {},
   "outputs": [
    {
     "name": "stderr",
     "output_type": "stream",
     "text": [
      "2025-02-20 04:35:00 - INFO - Starting to scan directory: /home/cmcouto-silva/Projects/github/projectlens\n",
      "2025-02-20 04:35:00 - INFO - Writing contents to: export.txt\n",
      "2025-02-20 04:35:00 - INFO - Project Metadata\n",
      "\tStatistics\n",
      "\t├── Scanned files: 9\n",
      "\t├── Skipped directories: 1\n",
      "\t└── Skipped files (total=0)\n",
      "\t    ├── Pattern matching: 0\n",
      "\t    ├── Exceed file size: 0\n",
      "\t    └── Failed: 0\n",
      "2025-02-20 04:35:00 - SUCCESS - Successfully processed 9 files to export.txt (47.6 KB).\n"
     ]
    },
    {
     "name": "stdout",
     "output_type": "stream",
     "text": [
      "Processed: projectlens/utils.py\n",
      "Processed: projectlens/core.py\n",
      "Processed: projectlens/__init__.py\n",
      "Processed: projectlens/cli.py\n",
      "Processed: projectlens/configs/config.py\n",
      "Processed: projectlens/configs/__init__.py\n",
      "Processed: projectlens/__pycache__/test.py\n",
      "Processed: tests/test_projectlens.py\n",
      "Processed: tests/__init__.py\n"
     ]
    }
   ],
   "source": [
    "from projectlens import ProjectLens\n",
    "from pathlib import Path\n",
    "\n",
    "# Custom processing after export\n",
    "lens = ProjectLens(extensions=[\"py\"], exclude=[\".venv\"])\n",
    "lens.export_project(\".\", \"export.txt\")\n",
    "\n",
    "# Analyze what was scanned/skipped\n",
    "for file in lens.metadata.scanned_files:\n",
    "    print(f\"Processed: {file}\")\n",
    "\n",
    "# # Count files by directory\n",
    "# from collections import Counter\n",
    "# directories = [Path(file).parent.as_posix() for file in lens.metadata.scanned_files]\n",
    "# dir_counts = Counter(directories)\n",
    "# print(dir_counts)"
   ]
  },
  {
   "cell_type": "code",
   "execution_count": null,
   "metadata": {},
   "outputs": [],
   "source": []
  },
  {
   "cell_type": "code",
   "execution_count": 5,
   "metadata": {},
   "outputs": [
    {
     "data": {
      "text/plain": [
       "1500000"
      ]
     },
     "execution_count": 5,
     "metadata": {},
     "output_type": "execute_result"
    }
   ],
   "source": [
    "import os\n",
    "from pathlib import Path\n",
    "\n",
    "temp_dir = \"example_project\"\n",
    "root_path = Path(temp_dir)\n",
    "\n",
    "# Ensure the root directory exists\n",
    "os.makedirs(root_path, exist_ok=True)\n",
    "\n",
    "# Root level files\n",
    "(root_path / \"README.md\").write_text(\"# Test Project\")\n",
    "(root_path / \"setup.py\").write_text(\"from setuptools import setup\")\n",
    "(root_path / \"pyproject.toml\").write_text(\"[tool.poetry]\\nname = 'test'\")\n",
    "(root_path / \"Dockerfile\").write_text(\"FROM python:3.9\")\n",
    "(root_path / \"requirements.txt\").write_text(\"pytest>=7.0.0\")\n",
    "(root_path / \".gitignore\").write_text(\"__pycache__\\n*.pyc\")\n",
    "\n",
    "# Source directory\n",
    "src_dir = root_path / \"src\" / \"testproject\"\n",
    "os.makedirs(src_dir, exist_ok=True)\n",
    "(src_dir / \"__init__.py\").write_text(\"# Init file\")\n",
    "(src_dir / \"main.py\").write_text(\"def main():\\n    pass\")\n",
    "(src_dir / \"utils.py\").write_text(\"def helper():\\n    return True\")\n",
    "\n",
    "# Tests directory\n",
    "tests_dir = root_path / \"tests\"\n",
    "os.makedirs(tests_dir, exist_ok=True)\n",
    "(tests_dir / \"__init__.py\").write_text(\"\")\n",
    "(tests_dir / \"test_main.py\").write_text(\"def test_main():\\n    assert True\")\n",
    "\n",
    "# Docs directory\n",
    "docs_dir = root_path / \"docs\"\n",
    "os.makedirs(docs_dir, exist_ok=True)\n",
    "(docs_dir / \"index.md\").write_text(\"# Documentation\")\n",
    "(docs_dir / \"guide.md\").write_text(\"## User Guide\")\n",
    "\n",
    "# Cache directory to be ignored\n",
    "cache_dir = root_path / \"__pycache__\"\n",
    "os.makedirs(cache_dir, exist_ok=True)\n",
    "(cache_dir / \"dummy.pyc\").write_text(\"cache file\")\n",
    "\n",
    "# Create a data directory with mixed content\n",
    "data_dir = root_path / \"data\"\n",
    "os.makedirs(data_dir, exist_ok=True)\n",
    "(data_dir / \"config.yaml\").write_text(\"key: value\")\n",
    "(data_dir / \"sample.csv\").write_text(\"id,value\\n1,test\")\n",
    "(data_dir / \"large_file.bin\").write_text(\"x\" * 1_500_000)  # > 1000KB\n"
   ]
  },
  {
   "cell_type": "code",
   "execution_count": null,
   "metadata": {},
   "outputs": [],
   "source": []
  },
  {
   "cell_type": "code",
   "execution_count": null,
   "metadata": {},
   "outputs": [],
   "source": []
  }
 ],
 "metadata": {
  "kernelspec": {
   "display_name": ".venv",
   "language": "python",
   "name": "python3"
  },
  "language_info": {
   "codemirror_mode": {
    "name": "ipython",
    "version": 3
   },
   "file_extension": ".py",
   "mimetype": "text/x-python",
   "name": "python",
   "nbconvert_exporter": "python",
   "pygments_lexer": "ipython3",
   "version": "3.12.3"
  }
 },
 "nbformat": 4,
 "nbformat_minor": 2
}
